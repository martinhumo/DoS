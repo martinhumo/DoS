{
 "cells": [
  {
   "cell_type": "code",
   "execution_count": null,
   "metadata": {},
   "outputs": [
    {
     "name": "stdout",
     "output_type": "stream",
     "text": [
      "Procesando: l0lp0.5/nb13/P2.6/lc2PT_1.DS16.t1.0p2.6.trj\n",
      "Are going to be loaded: particles coordinates\n",
      "Trajectory frames=  501\n",
      "Frames to be loaded=  501\n",
      "Are going to be loaded: particles velocities\n",
      "Trajectory frames=  501\n",
      "Frames to be loaded=  501\n",
      "Loading Frame: 500  \u001b[1K\r"
     ]
    }
   ],
   "source": [
    "import numpy as np\n",
    "import warnings\n",
    "warnings.filterwarnings('ignore')\n",
    "import os\n",
    "from DOSPT import *\n",
    "from scipy.constants import Boltzmann #light speed in [m/s], #Planck's constant  [J*s]\n",
    "\n",
    "#-----Simulation type and parameters------\n",
    "variable = 'P'\n",
    "l0lp = 0.5\n",
    "nb = 13     \n",
    "\n",
    "#Adim param\n",
    "t = 1.0\n",
    "p = 2.6\n",
    "\n",
    "#CH2 parameters (From McCoy1995)\n",
    "Sigma = 3.56 * 1.e-10                             #Sigma in [m]\n",
    "kb = Boltzmann                                      #Boltzmann's constant [J/K]\n",
    "Epsilon = 70.47 * kb                              #Epsilon in [J]\n",
    "mch2 = 14.026 *(1. / 1000.)/6.02214076e23        #CH2 mass in [kg]\n",
    "\n",
    "#Simulation type and time\n",
    "ens = 'NVT'\n",
    "Dstep = 16               #frames dump\n",
    "tstep = 0.001*np.sqrt(mch2 / Epsilon)*Sigma  #time step in second\n",
    "skip = 1                #If don't want load all frames, can jump frames\n",
    "fcv = (Sigma / (np.sqrt(mch2 / Epsilon)*Sigma))    #conversion factor lj units to [m/s]\n",
    "fcx = Sigma                                      #conversion factor lj to SI in [m]\n",
    "SN = 2.                                        #Symmetry Number: Molecula lineal homonuclear = 2 (Ver:TEMA 1. Termodinámica Estadística)\n",
    "T   =  t * (Epsilon/kb)\n",
    "m = np.tile(mch2, nb)  #Atoms mass in kg\n",
    "\n",
    "\n",
    "#Select working folder\n",
    "if variable == 'T':\n",
    "    folder = variable+str(t)\n",
    "elif variable == 'P':\n",
    "    folder = variable+str(p)\n",
    "root =  (f'l0lp{l0lp}/nb{nb}/{folder}/')\n",
    "os.makedirs(root+'PostProc/', exist_ok=True)\n",
    "\n",
    "j = 1\n",
    "for i in np.arange(j,j+20):\n",
    "    #INPUT\n",
    "    file_in =  root+(f'lc2PT_{i}.DS{Dstep}.t{t}p{p}.trj')\n",
    "    print('Procesando:',file_in)\n",
    "    coords = Trajectory(file_in, 0,skip,fcv,fcx)\n",
    "    rposi = coords.compute_rposi(m,nb)\n",
    "    del coords\n",
    "    vels = Trajectory(file_in, 2,skip,fcv,fcx)\n",
    "\n",
    "    for dof in ['trn', 'rot', 'vib']:\n",
    "        if dof == 'trn':\n",
    "            DOSt, freq = vels.Return_DOS_trn(tstep,Dstep,T,m,nb)\n",
    "\n",
    "        elif dof == 'rot':\n",
    "            DOSt, freq, I = vels.Return_DOS_rot(rposi,tstep,Dstep,T,m,nb)\n",
    "\n",
    "        elif dof == 'vib':\n",
    "            DOSt, freq = vels.Return_DOS_vib(rposi,tstep,Dstep,T,m,nb)\n",
    "\n",
    "        #OUTPUT\n",
    "        file_out =  root + (f'PostProc/Dos{dof}{ens}_{i}.DS{Dstep}t*{t}p*{p}.txt')\n",
    "        header = 'freq [1/s], DOSt[s], DOSa[s], DOSb[s], DOSc[s] / I = {}'.format(I) if dof == 'rot' else 'freq [1/s], DOSt[s], DOSx[s], DOSy[s], DOSz[s]'\n",
    "        out_file = open(file_out, \"w\")\n",
    "        np.savetxt(out_file, (np.vstack((freq[:], DOSt[:,0], DOSt[:,1], DOSt[:,2], DOSt[:,3])).T),\\\n",
    "                    fmt='%E',header=header)\n",
    "        out_file.close()\n",
    "    print('Procesado:', file_in)\n",
    "    del vels"
   ]
  }
 ],
 "metadata": {
  "kernelspec": {
   "display_name": "Python 3 (ipykernel)",
   "language": "python",
   "name": "python3"
  },
  "language_info": {
   "codemirror_mode": {
    "name": "ipython",
    "version": 3
   },
   "file_extension": ".py",
   "mimetype": "text/x-python",
   "name": "python",
   "nbconvert_exporter": "python",
   "pygments_lexer": "ipython3",
   "version": "3.10.12"
  }
 },
 "nbformat": 4,
 "nbformat_minor": 2
}
